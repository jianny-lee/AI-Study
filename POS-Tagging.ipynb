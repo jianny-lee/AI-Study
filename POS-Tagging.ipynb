{
 "cells": [
  {
   "cell_type": "code",
   "execution_count": 1,
   "metadata": {},
   "outputs": [],
   "source": [
    "import nltk\n",
    "from nltk.corpus import brown"
   ]
  },
  {
   "cell_type": "code",
   "execution_count": null,
   "metadata": {},
   "outputs": [],
   "source": [
    "s = input('Enter a sentence : ')"
   ]
  },
  {
   "cell_type": "code",
   "execution_count": 95,
   "metadata": {},
   "outputs": [],
   "source": [
    "sentence = nltk.word_tokenize(s)"
   ]
  },
  {
   "cell_type": "code",
   "execution_count": 96,
   "metadata": {},
   "outputs": [
    {
     "data": {
      "text/plain": [
       "[['If',\n",
       "  'we',\n",
       "  'did',\n",
       "  \"n't\",\n",
       "  'have',\n",
       "  'enough',\n",
       "  'to',\n",
       "  'worry',\n",
       "  'about',\n",
       "  'already',\n",
       "  'during',\n",
       "  'this',\n",
       "  'pandemic',\n",
       "  ',',\n",
       "  'parents',\n",
       "  'now',\n",
       "  'have',\n",
       "  'another',\n",
       "  'dire',\n",
       "  'warning',\n",
       "  'from',\n",
       "  'medical',\n",
       "  'experts']]"
      ]
     },
     "execution_count": 96,
     "metadata": {},
     "output_type": "execute_result"
    }
   ],
   "source": [
    "input_sent = []\n",
    "input_sent.append(sentence)\n",
    "input_sent"
   ]
  },
  {
   "cell_type": "code",
   "execution_count": 97,
   "metadata": {},
   "outputs": [],
   "source": [
    "#초기 태그 세팅\n",
    "brown_sent_tag = brown.tagged_sents(tagset = 'universal')\n",
    "nltk_sent_tag = nltk.pos_tag(sentence, tagset = 'universal')"
   ]
  },
  {
   "cell_type": "code",
   "execution_count": 98,
   "metadata": {},
   "outputs": [],
   "source": [
    "brown_sent = brown.sents()\n",
    "sent_tag = []\n",
    "sent_tag.append(nltk_sent_tag)"
   ]
  },
  {
   "cell_type": "code",
   "execution_count": 99,
   "metadata": {},
   "outputs": [
    {
     "data": {
      "text/plain": [
       "[[('If', 'ADP'),\n",
       "  ('we', 'PRON'),\n",
       "  ('did', 'VERB'),\n",
       "  (\"n't\", 'ADV'),\n",
       "  ('have', 'VERB'),\n",
       "  ('enough', 'ADV'),\n",
       "  ('to', 'PRT'),\n",
       "  ('worry', 'VERB'),\n",
       "  ('about', 'ADP'),\n",
       "  ('already', 'ADV'),\n",
       "  ('during', 'ADP'),\n",
       "  ('this', 'DET'),\n",
       "  ('pandemic', 'ADJ'),\n",
       "  (',', '.'),\n",
       "  ('parents', 'NOUN'),\n",
       "  ('now', 'ADV'),\n",
       "  ('have', 'VERB'),\n",
       "  ('another', 'DET'),\n",
       "  ('dire', 'NOUN'),\n",
       "  ('warning', 'NOUN'),\n",
       "  ('from', 'ADP'),\n",
       "  ('medical', 'ADJ'),\n",
       "  ('experts', 'NOUN')]]"
      ]
     },
     "execution_count": 99,
     "metadata": {},
     "output_type": "execute_result"
    }
   ],
   "source": [
    "sent_tag"
   ]
  },
  {
   "cell_type": "code",
   "execution_count": 100,
   "metadata": {},
   "outputs": [
    {
     "name": "stdout",
     "output_type": "stream",
     "text": [
      "57340\n"
     ]
    }
   ],
   "source": [
    "# training 할 brownCorpus의 size\n",
    "brownSize = int(len(brown_sent_tag)*0.9)\n",
    "print(brownSize)"
   ]
  },
  {
   "cell_type": "code",
   "execution_count": 101,
   "metadata": {},
   "outputs": [],
   "source": [
    "#training 할 brown 전체 corpus\n",
    "train_sent = brown_sent_tag[:brownSize]"
   ]
  },
  {
   "cell_type": "code",
   "execution_count": 102,
   "metadata": {},
   "outputs": [
    {
     "data": {
      "text/plain": [
       "[[('If', 'ADP'),\n",
       "  ('we', 'PRON'),\n",
       "  ('did', 'VERB'),\n",
       "  (\"n't\", 'ADV'),\n",
       "  ('have', 'VERB'),\n",
       "  ('enough', 'ADV'),\n",
       "  ('to', 'PRT'),\n",
       "  ('worry', 'VERB'),\n",
       "  ('about', 'ADP'),\n",
       "  ('already', 'ADV'),\n",
       "  ('during', 'ADP'),\n",
       "  ('this', 'DET'),\n",
       "  ('pandemic', 'ADJ'),\n",
       "  (',', '.'),\n",
       "  ('parents', 'NOUN'),\n",
       "  ('now', 'ADV'),\n",
       "  ('have', 'VERB'),\n",
       "  ('another', 'DET'),\n",
       "  ('dire', 'NOUN'),\n",
       "  ('warning', 'NOUN'),\n",
       "  ('from', 'ADP'),\n",
       "  ('medical', 'ADJ'),\n",
       "  ('experts', 'NOUN')]]"
      ]
     },
     "execution_count": 102,
     "metadata": {},
     "output_type": "execute_result"
    }
   ],
   "source": [
    "test_sent= sent_tag\n",
    "test_sent"
   ]
  },
  {
   "cell_type": "code",
   "execution_count": 103,
   "metadata": {},
   "outputs": [],
   "source": [
    "t0 = nltk.DefaultTagger('NN')\n",
    "t1 = nltk.UnigramTagger(train_sent, backoff = t0)\n",
    "t2 = nltk.BigramTagger(train_sent, backoff = t1)"
   ]
  },
  {
   "cell_type": "code",
   "execution_count": 104,
   "metadata": {},
   "outputs": [],
   "source": [
    "result = t2.tag(input_sent[0])\n",
    "pos_result1 = list()\n",
    "for i in range(len(result)):\n",
    "    pos_result1.append(result[i][1])"
   ]
  },
  {
   "cell_type": "code",
   "execution_count": 105,
   "metadata": {},
   "outputs": [
    {
     "name": "stdout",
     "output_type": "stream",
     "text": [
      "Enter a sentence :  If we didn't have enough to worry about already during this pandemic, parents now have another dire warning from medical experts\n",
      "POS Tagging Result : ['ADP', 'PRON', 'VERB', 'NN', 'VERB', 'ADJ', 'PRT', 'VERB', 'ADP', 'ADV', 'ADP', 'DET', 'NOUN', '.', 'NOUN', 'ADV', 'VERB', 'DET', 'ADJ', 'NOUN', 'ADP', 'ADJ', 'NOUN']\n",
      "Accuracy :  0.8260869565217391\n"
     ]
    }
   ],
   "source": [
    "print('Enter a sentence : ',s)\n",
    "print('POS Tagging Result :', pos_result1)\n",
    "print('Accuracy : ',t2.evaluate(test_sent))"
   ]
  },
  {
   "cell_type": "code",
   "execution_count": 106,
   "metadata": {},
   "outputs": [
    {
     "name": "stdout",
     "output_type": "stream",
     "text": [
      " ADP VERB NOUN  ADJ  ADV  DET PRON   NN  PRT    . \n",
      "   4    4    4    3    2    2    1    1    1    1 \n"
     ]
    },
    {
     "data": {
      "image/png": "[encoded data removed]",
      "text/plain": [
       "<Figure size 432x288 with 1 Axes>"
      ]
     },
     "metadata": {
      "needs_background": "light"
     },
     "output_type": "display_data"
    },
    {
     "data": {
      "text/plain": [
       "<matplotlib.axes._subplots.AxesSubplot at 0x1a2cc33350>"
      ]
     },
     "execution_count": 106,
     "metadata": {},
     "output_type": "execute_result"
    }
   ],
   "source": [
    "#빈번한 횟수\n",
    "before_tag_fd = nltk.FreqDist(tag for (word,tag) in result)\n",
    "before_tag_fd.tabulate()\n",
    "before_tag_fd.plot(cumulative=True)"
   ]
  },
  {
   "cell_type": "code",
   "execution_count": null,
   "metadata": {},
   "outputs": [],
   "source": []
  },
  {
   "cell_type": "code",
   "execution_count": null,
   "metadata": {},
   "outputs": [],
   "source": []
  },
  {
   "cell_type": "code",
   "execution_count": null,
   "metadata": {},
   "outputs": [],
   "source": []
  }
 ],
 "metadata": {
  "kernelspec": {
   "display_name": "Python 3",
   "language": "python",
   "name": "python3"
  },
  "language_info": {
   "codemirror_mode": {
    "name": "ipython",
    "version": 3
   },
   "file_extension": ".py",
   "mimetype": "text/x-python",
   "name": "python",
   "nbconvert_exporter": "python",
   "pygments_lexer": "ipython3",
   "version": "3.7.6"
  }
 },
 "nbformat": 4,
 "nbformat_minor": 4
}
