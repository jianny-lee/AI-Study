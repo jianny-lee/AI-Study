{
 "cells": [
  {
   "cell_type": "code",
   "execution_count": 1,
   "metadata": {},
   "outputs": [],
   "source": [
    "import nltk\n",
    "from nltk.corpus import *"
   ]
  },
  {
   "cell_type": "code",
   "execution_count": 2,
   "metadata": {},
   "outputs": [],
   "source": [
    "corpus_root = \"/Users/jianny/Genomics-Informatics-Corpus/raw_text2/\""
   ]
  },
  {
   "cell_type": "code",
   "execution_count": 3,
   "metadata": {},
   "outputs": [],
   "source": [
    "GNICorpus = PlaintextCorpusReader(corpus_root, '.*\\.txt', encoding='utf-8')"
   ]
  },
  {
   "cell_type": "code",
   "execution_count": 4,
   "metadata": {},
   "outputs": [],
   "source": [
    "#파일 'gni-3-3-53.txt'\n",
    "gni3_Raw = GNICorpus.raw('gni-3-3-53.txt')"
   ]
  },
  {
   "cell_type": "code",
   "execution_count": 5,
   "metadata": {
    "scrolled": true
   },
   "outputs": [
    {
     "data": {
      "text/plain": [
       "\"Prediction of Mammalian MicroRNA Targets - Comparative Genomics Approach with Longer 3 1 UTR Databases\\r\\n\\r\\nMicroRNAs play an important role in regulating gene\\r\\n\\r\\nexpression, but their target identification is a difficult task due to their short length and imperfect complementarity. Burge and coworkers developed a program called TargetScan that allowed imperfect complementarity and established a procedure favoring targets with multiple binding sites conserved in multiple organisms. We improved their algorithm in two major aspects - (i) using well-defined UTR (untranslated region) database, (ii) examining the extent of conservation inside the 3’ UTR specifically. Average length in our UTR database, based on the ECgene annotation, is more than twice longer than the Ensembl. Then, TargetScan was used to identify putative binding sites. The extent of conservation varies significantly inside the 3 1 UTR. We used the “tight” tracks in the UCSC genome browser to select the conserved binding sites in multiple species. By combining the longer 3' UTR data, TargetScan, and tightly conserved blocks of genomic DNA, we identified 107 putative target genes with multiple binding sites conserved in multiple species, of which 85 putative targets are novel.\\r\\n\\r\\nMicroRNAs are small non-coding RNAs (typically 21-23\\r\\n\\r\\nnucleotides) that play an important role in regulating post-transcriptional translation. They bind to the target mRNA by RNA base pairing, which causes target cleavage or translational repression according to the extent of complementarity. Lin-4 discovered in C. elegans, was the first microRNA (Lee etal., 1993; Wightman etal., 1993). It has multiple complementary sites in 3‘ UTR of lin-14. Binding of lin-4 to lin-14 leads to transition between larval stages, which suggested microRNA’s role in developmental control. To date, several hundred microRNAs have been identified from various organisms and their sequences are available at the Rfam miRNA registry website ( http://www.sanger.ac.uk/Software/Rfam ) (Ambros etal., 2003a; Griffiths-Jones, 2004).\\r\\n\\r\\nMicroRNAs have various regulatory roles other than controlling developmental timing. For example, bantam promotes cell proliferation (Abrahante et al., 2003) and Drosophila miR-14 coordinates multiple cellular responses to stress (Xu et al., 2003). Recent study reports that human miR-15 and miR-16 are located in a region frequently deleted in chronic lymphocytic leukemia, which means that microRNAs may be tumor suppressors (Calin etal., 2002). Functions of microRNAs are closely related to their target gene.\\r\\n\\r\\nThere are not many microRNAs with known targets in animal. Targets of lin-4, let-7, bantam, and hsa-miR-196 are experimentally verified (Abrahante et al., 2003; Brennecke et al., 2003; Lin et al., 2003; Olsen et al., 1999; Seggerson et al., 2002; Yekta et al., 2004). Recently we have seen many attempts to identify microRNA targets computationally in plants and animals. While simple homology search performs well for target search in plants since they usually require almost perfect complementarity (Ambros et al., 2003b; Bartel et al., 2003), target prediction in animal (Enright et al., 2003; Kiriakidou et al., 2004; Lewis et al., 2003; Rajewsky et al., 2004; Rhoades et al., 2002; Stark et al., 2003) is much more difficult because of the absence of extensive complementarity between mammalian microRNAs and their targets (Doench etal., 2003; Lee etal., 1993; Moss et al., 1997; Olsen et al., 1999; Reinhart et al., 2000; Wightman etal., 1993; Zeng etal., 2002). It is found that the 5‘ core element of microRNA should be nearly perfectly complementary to the target even though partial complementarity between microRNA and its target is allowed in animal. It implies that the residue 2-8\\r\\n\\r\\n\\r\\nin the microRNA is an important factor in recognizing target sites, and this microRNA seed is conserved in invertebrates and in the homologous metazoan region (Lewis etal., 2003; Lim etal., 2003).\\r\\n\\r\\nRecently, Lewis et al. developed a robust target prediction program, TargetScan, which utilizes the seed match and multiple binding sites conserved among different species (Lewis et al., 2003). They extracted 3 1 UTR regions from the Ensembl gene models ( http://www.ensembl.org ) and extended the annotated UTRs by 2kb to compensate for insufficient UTR annotation in the rat genome. TargetScan predicted 451 putative mammalian microRNA targets, and they found experimental support for 11 targets out of 15 predicted targets using the luciferase reporter assay.\\r\\n\\r\\nHowever, when we examined the predicted binding sites in those 15 target genes, we found that approximately 25 % of those binding sites were not conserved in other species. Furthermore, 3’ UTR region of many genes are longer than 2 kbp. We present a protocol that improves the TargetScan algorithm by constructing a better UTR database and by examining the extent of conservation inside the 3’ UTR specifically.\\r\\n\\r\\n/tfcraRAM Database; The Rfam database ( http://www.sanger . ac.uk/Software/Rfam/ ) was used as a source of microRNA gene database (Ambros et al., 2003a; Griffiths-Jones, 2004). The Rfam release 3.0 was downloaded, and 152 mature microRNAs from human were selected for target\\r\\n\\r\\nidentification. Most microRNAs are identical in human, mouse, and rat.\\r\\n\\r\\n3' UTR database: ECgene version 1.1 (hg16, mm4, m3 for human, mouse, rat, respectively at UCSC) was used to extract the 3 1 UTR regions of human, mouse, and rat genomes. ECgene (Kim et al., 2004; Kim et al., 2005) builds gene models taking alternative splicing into consid\\xad eration, and the redundant 3' UTRs from splice variants were removed from the dataset to build the non-re- dundant 3 1 UTR database. The non-redundant human 3' UTR data in the UTRdb (Pesole eta!., 2002) Release 17 is available at http://bighost.area.ba.cnr.it/BIG/UTRHome .\\r\\n\\r\\nComparative genonics data: Among several comparative genomics tracks available in the UCSC genome site, we chose the “tight” track of the conserved blocks since they were filtered with most stringent conditions. The average block size is approximately 200 bp both for human-mouse and human-rat genomes. The “net” track ignores small\\r\\n\\r\\nindels to make longer conserved blocks whose average block size is 600 bp for human-mouse comparison. The data was downloaded from the UCSC ftp site ( ftp://genome . ucsc.edu/goldenPath/hg16 ).\\r\\n\\r\\nTargetScan program available at http://genes.mit.edu/ targetscan was used to find the microRNAs targets. We applied theTargetScan program for all microRNAs using our own UTR datasets from the ECgene for human, mouse, and rat genomes. We used the default parameters for TargetScan. Initially, TargetScan searches for com\\xad plementary matches (so called the “seed match”) for bases 2~8 of the microRNA (numbered from the 5' end). The complementary seeds are extended in both directions, and the remaining 3' portion of microRNA is optimally aligned within 35 bases flanking the target UTR seed. When the distance between adjacent seed matches is less than 20 bases, the downstream seed match is discarded as in the original TargetScan paper.\\r\\n\\r\\nTo use the comparative genomics information available at the UCSC genome center, the target positions within the UTR sequence were converted into the genomic coordinates. The gene structure should be taken into consideration since the UTR region may contain intron sequences. Determining conserved target sites is not a trivial task since there are so many putative target sites from the TargetScan and so many conserved blocks in the “tight” tracks. In an effort to reduce the number of comparisons, the binning scheme was implemented as described in the UCSC genome browser paper (Karolchik etal., 2003; Kent etal., 2002).\\r\\n\\r\\nTarget genes with multiple binding sites are usually preferred. Lewis etal. implemented this idea as the Z score that sums contribution of multiple binding sites using the binding energies obtained from Vienna RNA package. In this study, filtering target sites using tight conservation criterion left manageable number of target sites. So we constructed a database containing all conserved target sites. A simple database query can extract target genes with multiple binding sites if necessary.\\r\\n\\r\\nConservation of microRNA and target sequences among\\r\\n\\r\\n\\r\\ndifference species is an important clue for their functional importance. Homology by amino acid comparison is not enough to identify microRNA target sites since we need the conservation in the 3’ UTR, not in the CDS (coding sequence) region. The whole 3’ UTR is not necessarily conserved in other species. We examined the conservation for 40 predicted binding sites in 14 target genes used in the luciferase reporter assay by Lewis et al. Using the PhyloHMM score (Siepel et al., 2004a; Siepel et al., 2004b) available at the UCSC genome browser, we found that only 30 binding sites had average score over 0.5. This demonstrates that the extent of conservation should be specifically examined for each binding sites in the UTR, and the comparative genomics approach is a viable method to confirm whether each binding site is conserved in multiple species.\\r\\n\\r\\nWe also performed a simulation test on the selection ratio achieved by adopting this cross-species conservation. We selected a random test set of 56 microRNAs from 152 microRNAs in the Rfam. A shuffled set was prepared by randomly permuting the microRNA sequences with their nucleotide composition unchanged. Then we ran the TargetScan to identify the binding sites using the set of longest UTR for each ECgene cluster (refer to the next section). Transcripts with multiple binding sites were 36491 and 20615 for the test set and the shuffled set, respectively. Therefore, selection ratio by multiple binding sites is 1.77:1. Examining conservation of the predicted site with PhyloHMM score over 0.9 resulted in 396 and 158 target transcripts for the two sets. This implies that the selection ratio by multiple binding sites and cross-species conservation is 2.51:1.\\r\\n\\r\\nProper 3 1 UTR database is necessary for microRNA target identification. Lewis et al. used the Ensembl database. Ensembl Human v20.34c.1 includes 22287 human genes, 16203 of those with annotated 3‘ UTR region. 6084 genes do not have 3 1 UTR region and UTR region is not long enough even for those annotated genes. To alleviate this problem, Lewis et al. extended the annotated 3‘ UTR region by 2 kbp arbitrarily in their TargetScan calculation. Even though this approach recovers UTR regions for many genes, it certainly introduces false target sites in the intergenic region.\\r\\n\\r\\nWe used the ECgene annotation that has several merits over other gene predictions. First, it includes extensive gene modeling for gene variants from alternative splicing. So UTR variation from alternative splicing or polyA can be naturally taken into consideration. Second, the 3 1 UTR region in the ECgene is highly reliable since it is based on EST clustering that includes ample 3‘ EST sequences. Furthermore, the 3‘ UTRs are substantially longer since they are extended by overlapping EST sequences aligned in the same orientation.\\r\\n\\r\\nIn Fig. 1, we compare the length distribution of the 3‘ UTR databases from the Ensembl and ECgene. We extracted 24956 transcripts with 3 1 UTRs in the Ensembl human using the EnsMart system (Kasprzyk etal., 2004) and identified corresponding 16201 ECgene transcripts by cross-referencing with RefSeq ID. More than 40 % of the Ensembl transcripts have 3 1 UTRs shorter than 300 bp while only about 24% of the ECgene transcripts have less than 300 bp 3‘ UTRs. The average 3‘ UTR lengths are 549 and 1137 bp for the Ensembl and the ECgene, respectively. ECgene’s UTR length is almost twice longer than corresponding Ensembl genes on average. It is also noteworthy that 2745 ECgene transcripts have 3’ UTR region longer than 2 kbp and that 3’ UTR region of\\r\\n\\r\\n\\r\\n1116 transcripts is longer than 3 kbp. Extending UTR region by 2 kbp in the original TargetScan work may not be effective forthose genes. Similar comparison with the manually curated UTRdb (Pesole et al., 2002) shows that ECgene’s UTR length is longer than UTRdb by 16%. Therefore, we believe that our 3' UTR dataset should be ideal to find any charactristic features within the 3’ UTR such as microRNA target sites.\\r\\n\\r\\nBrief overview of our strategy is summarized in Fig. 2. All human microRNAs were downloaded from the Rfam site ( http://www.sanger.ac.uk/Software/Rfam/ ). Database of 3' UTR sequences were constructed from all ECgene (Kim et al., 2004; Kim et al., 2005) transcripts with annotated coding sequences. ECgene contained 269,702 distinctive 3 1 UTR regions for the human transcriptome. Target genes of each miRNA were predicted using the TargetScan program for our own 3 1 UTR datasets for human, mouse and rat. We found 1,123,986 putative target sites in the human 3 1 UTR data. UTR regions in mouse and rat genomes contained 934,796 and 207,200 target sites, respectively.\\r\\n\\r\\nComparative genomics data available at the UCSC ge\\xad\\r\\n\\r\\nnome center were used to find conserved target sites in three organisms. We used the “tight” track (tight subset of the best alignments obtained by BLASTZ) (Schwartz etat, 2003), which satisfied the most stringent requirements. Applying the conservation criterion greatly reduced the number of target sites. We found -28,000 target sites con\\xad served between the human and mouse genomes, which was only 0.7% of miRNAhuman target sites (1,123,986) found by TargetScan. Approximately 13,000 conserved target sites were found for the human and rat genomes. Combining two pair-wise comparisons gave -8,000 target sites con\\xad served in the human, mouse, and rat genomes. Selecting target genes with multiple (>2) conserved binding sites for a specific microRNA, we found 107 target genes.\\r\\n\\r\\nTo compare our result with the original TargetScan work by Lewis et al., we downloaded all target genes and the binding sites from the TargetScan website. They published 442 target genes with multiple (>2) conserved binding sites, which were considerably larger than our 107 target genes. We shall refer to their result as “Ensembl targets” since they used the Ensembl gene annotation.\\r\\n\\r\\nOur result is substantially different from the Ensembl\\r\\n\\r\\n\\r\\ntargets. Only 22 out of 107 genes are found by both methods. Table 1 is the list of those common target genes from the two studies. It shows that 15 of 22 genes are targets of the same or similar microRNAs. Detailed examination, however, reveals that many genes are targets of different microRNAs even for those common\\r\\n target genes. The difference is clearer in Table 2 that shows the target genes found by the two methods for 10 important microRNAs. Complete list is provided as a supplementary material. We do not find many common target genes (shown in bold character), and describe factors for the difference below.\\r\\n\\r\\nThe most influential factor is the way to determine whether the target site is conserved in other species. Lewis etal. used the homologous gene information in the Ensembl annotation system (Birney etal., 2004). Ensembl homologues are obtained by comparing the amino acid sequence of proteins (Clamp etal., 2003). Even though this is perfectly valid for comparing coding regions, it does not guarantee that the UTR regions are conserved. The “Conservation” track (Siepel etal., 2004a) in Fig. 3 shows the conservation level obtained by comparing five organisms (human, chimp, mouse, rat, and chicken). It can be immediately recognized that the extent of sequence conservation varies dramatically inside the 3‘ UTR region. Our method uses the “tight” track that includes conserved blocks of high quality only as can be seen in Fig. 3. This is the major reason why the number of target genes is substantially smaller in the ECgene targets. All of our target sites are highly likely to be conserved in other species, which reduces risk of being false positives.\\r\\n\\r\\nAnother big difference is the gene model and the\\r\\n\\r\\nresultant UTR. ECgene’s UTR is significantly longer than other gene models since its algorithm tries to extend the UTR regions if it finds any overlapping ESTs with the same direction. Detailed comparison is given in the next section. Furthermore, alternative splicing is extensively modeled in the ECgene (Kim etal., 2004; Kim etal., 2005), which greatly expands the number of transcripts. Current Ensembl database (Ensembl Human v20.34c.1) includes 35685 transcripts from 23758 genes. Approximately 70% (16534) of Ensembl have single transcript and remaining 7224 genes give 19151 transcripts, implying 2.65 isoforms per gene if the gene is alternatively spliced. However, current knowledge implies that -70% of human genes are alternatively spliced and that -3.5 isoforms exist for alternatively spliced genes. Therefore transcripts in the Ensembl do not reflect diversity from alternative splicing adequately. Our UTR database based on ECgene has 269702 distinct UTR regions. Even though it may include many false positives, its coverage should be most complete. The difference is explored in the following cases in detail.\\r\\n\\r\\n\\r\\nWe observed in Tables 1 and 2 that target genes are much different between two methods. For example, CYP26B1 (Nelson, 1999), a member of the cytochrome P450 superfamily of enzymes, is target of miR-93 and miR-302 in our study, whereas miR-141 is the binding microRNA in the original TargetScan study.\\r\\n\\r\\nFig. 3 summarizes relevant information for CYP26B1 in the genome browser. It shows the gene structures, binding sites, and comparative genomics data. All target sites found by the TargetScan program are listed without filtering by conservation or multiple binding sites. The 3 1 UTR regions are more or less the same between the ECgene, Ensembl gene, and RefSeq gene tracks. Both\\r\\n\\r\\n\\r\\nmiR-93 and miR-302 have two identical binding sites (shown in the red boxes). Several tracks are available for comparative genomics. The “conservation” track (Human/ Chimp/Mouse/Rat/Chicken Multiz Alignments & PhyloHMM Cons) is especially useful (Siepel etal., 2004b). It can be immediately seen that we have two large conserved blocks - one for the last exon and the other near the end of 3‘ UTR region. The “mouse tight” track is collection of most highly conserved blocks. Other tracks such as “chain” and “net” are conservation with less stringent conditions. We observe that two binding sites of miR-93 and miR-302 appear within the highly conserved genomic locus. The Ensembl target, hsa-miR-141, has three binding sites (shown in boxes) for this gene, which is advantageous over miR-93 and miR-302 with two binding sites. However, the conservation level for these target sites is much lower in the “conservation” track, and they do not qualify for conserved blocks in the mouse tight track. Even though targets with multiple binding sites are generally preferred, the mechanism underlying the cooperativeness between the binding sites is not established well. Conservation in other species should be a clear evidence for its functional importance. Therefore, CYP26B1 would not be a good target for hsa-miR-141 since its binding sites are not conserved in high standard. This example shows that finding target genes for microRNAs needs subtle adjustment of various aspects such as multiple binding sites and conservation among different species.\\r\\n\\r\\nPTEN (phosphatase and tensin homolog) is an important gene involved in regulation of the AKT1 signaling pathway. Mutations of PTEN are found in a large number of cancers and it is a potential tumor suppressor gene (Di Cristofano et al., 2000). Lewis et al. identified PTEN as a target of two microRNAs - hsa-miR-19a and hsa-miR-19b. Our method did not find any microRNA targeting this gene. The main reason was that the PTEN annotation in rat did not have UTR at all. Lewis etal. cleverly extended the 3‘ UTR region by 2 kbp to alleviate this problem.\\r\\n\\r\\nFig. 4 shows the 3' UTR of human PTEN with predicted target sites. The 3' UTR is unusually long - 6.5 kbp and 1.2 kbp in the ECgene and Ensembl, respectively. Even though the human PTEN has three binding sites as Lewis et al. found, only the first two binding sites are found in the mouse PTEN and the rat PTEN has only one binding site. So hsa-miR-19a and hsa-miR-19b do not have multiple conserved binding sites in PTEN.\\r\\n\\r\\nInstead, we identified many other conserved binding sites as shown in Fig. 4. The major hurdle in identifying conserved targets is the poor annotation in the rat genome. The UTR in the mouse PTEN is 3.3 kbp long, but there are\\r\\n\\r\\nmany neighboring EST transcripts and it is expected to be as long as the UTR of human PTEN. So, we extended the UTRs of PTEN in mouse and rat to be 6.5 kbp comparable to the human PTEN. The number of binding sites found by TargetScan is shown in Table 3. We found additional binding sites for five microRNAs (hsa-miR-30a, hsa-miR- 23a, hsa-miR-23b, hsa-miR-29b, hsa-miR-29c). Fur\\xad thermore, four additional microRNAs (hsa-miR-200a, hsa- miR-181a, hsa-miR-181b, hsa-miR-181c) were identified to have multiple conserved binding sites for PTEN.\\r\\n\\r\\nHsa-miR-23a and hsa-miR-23b have four binding sites in human as shown in Fig. 4 and Table 3. The fourth binding site does not belong to the conserved block as can be seen in the conservation track. Three other binding sites appear inside the conserved region. However, the third binding site is located outside the 2 kbp extended region of Ensembl UTR (indicated as long vertical lines in brown color in Fig. 4). So, extending by 2 kbp would not be enough for genes with long 3’ UTR.\\r\\n\\r\\nComparison of our method with the original TargetScan program suggests many important aspects in target prediction of microRNAs. First, using properly annotated 3' UTR database is essential. Extending 3‘ UTR by an arbitrary length is not desirable since it increases false positives by introducing target sites outside the real UTR. Extension of 2 kbp was not enough for the case study of PTEN. We need a compromise between sensitivity and specificity. Selecting 3' UTR of reliable transcripts in the\\r\\n\\r\\nECgene or Acembly genes (D. Therry-Mieg et al. http://www. ncbi.nlm.nih.gov/IEB/Research/Acembly ) database would be the best choice for human and mouse genomes at this point. However, this is not true for rat which has only ~0.6 million ESTs in the dbEST, compared with 5.64, 4.18 million ESTs for human and mouse, respectively. Proper annotation of 3' UTR is impossible in rat due to the draft quality of the rat genome and insufficient EST data. Their effect on target prediction of microRNAs is obvious as can be seen in Fig. 2. Number of rat transcripts is appro\\xad ximately 1/3 of human or mouse, and the number of microRNAitarget pairs are reduced to 1/5 in rat. It might be better to compare just human and mouse genomes, waiting for the rat genome map to be more complete. This would increase the number of target genes substantially. Alternatively, one may extend the 3' UTR of rat by the amount inferred by human and mouse homologs, not beyond the gap position.\\r\\n\\r\\nAnother important aspect is the conservation of target sites in different organisms. As seen in Fig. 3 and 4, the extent of conservation varies significantly inside the 3 1 UTR, which is not taken into consideration in previous studies. It would be better to count the target binding sites within the tightly conserved blocks only. Two comparative genomics tracks-PhyloHMM and Blastz tight - in the UCSC genome browser should be good candidates (Schwartz et al., 2003; Siepel eta/., 2004a). We used the tight tracks for convenience since it provides pairwise comparison of genomes.\\r\\n\\r\\nRecent study of Yekta et al. identified HOXB8 as the target of hsa-miR-196 (Yekta etal., 2004). The target site is nearly perfectly complementary to the microRNA. TargetScan allows target binding with mismatches and bulges, producing target sites of 42-43 nucleotides long. Interestingly, TargetScan could not locate the target site for hsa-miR-196 because the target site has one mismatch in the 5’ seed region (2-8 bp of microRNA). This suggests that minor mismatches in the seed region should be allowed in search of microRNA targets.\\r\\n\\r\\n\""
      ]
     },
     "execution_count": 5,
     "metadata": {},
     "output_type": "execute_result"
    }
   ],
   "source": [
    "gni3_Raw"
   ]
  },
  {
   "cell_type": "code",
   "execution_count": 6,
   "metadata": {},
   "outputs": [
    {
     "data": {
      "text/plain": [
       "10"
      ]
     },
     "execution_count": 6,
     "metadata": {},
     "output_type": "execute_result"
    }
   ],
   "source": [
    "#문제점 1 : 다음 절로 넘어갈때 불특정한 \\r\\n\\r 태그\n",
    "problem1 = re.findall(r'[A-Z|a-z|0-9]+[\\s]{2,}\\n[a-z|R-]+[0-9]?', gni3_Raw)\n",
    "len(problem1)"
   ]
  },
  {
   "cell_type": "code",
   "execution_count": 7,
   "metadata": {},
   "outputs": [
    {
     "data": {
      "text/plain": [
       "['gene\\r\\n\\r\\nexpression',\n",
       " '23\\r\\n\\r\\nnucleotides',\n",
       " '8\\r\\n\\r\\n\\r\\nin',\n",
       " 'target\\r\\n\\r\\nidentification',\n",
       " 'small\\r\\n\\r\\nindels',\n",
       " 'among\\r\\n\\r\\n\\r\\ndifference',\n",
       " 'Ensembl\\r\\n\\r\\n\\r\\ntargets',\n",
       " 'the\\r\\n\\r\\nresultant',\n",
       " 'Both\\r\\n\\r\\n\\r\\nmiR-9',\n",
       " 'are\\r\\n\\r\\nmany']"
      ]
     },
     "execution_count": 7,
     "metadata": {},
     "output_type": "execute_result"
    }
   ],
   "source": [
    "problem1"
   ]
  },
  {
   "cell_type": "code",
   "execution_count": 8,
   "metadata": {},
   "outputs": [
    {
     "data": {
      "text/plain": [
       "['gene expression',\n",
       " '23 nucleotides',\n",
       " '8 in',\n",
       " 'target identification',\n",
       " 'small indels',\n",
       " 'among difference',\n",
       " 'Ensembl targets',\n",
       " 'the resultant',\n",
       " 'Both miR-9',\n",
       " 'are many']"
      ]
     },
     "execution_count": 8,
     "metadata": {},
     "output_type": "execute_result"
    }
   ],
   "source": [
    "[re.sub(r'[\\r\\n]+', ' ', p) for p in problem1]"
   ]
  },
  {
   "cell_type": "code",
   "execution_count": 9,
   "metadata": {},
   "outputs": [
    {
     "data": {
      "text/plain": [
       "7"
      ]
     },
     "execution_count": 9,
     "metadata": {},
     "output_type": "execute_result"
    }
   ],
   "source": [
    "#문제2 : 단어 사이가 \\xad\\s라는 태그로 끊어짐\n",
    "problem2 = re.findall(r'[A-Za-z]+\\xad[\\s]+[a-z]+',gni3_Raw)\n",
    "len(problem2)"
   ]
  },
  {
   "cell_type": "code",
   "execution_count": 10,
   "metadata": {},
   "outputs": [
    {
     "data": {
      "text/plain": [
       "['consid\\xad eration',\n",
       " 'com\\xad plementary',\n",
       " 'ge\\xad\\r\\n\\r\\nnome',\n",
       " 'con\\xad served',\n",
       " 'con\\xad served',\n",
       " 'Fur\\xad thermore',\n",
       " 'appro\\xad ximately']"
      ]
     },
     "execution_count": 10,
     "metadata": {},
     "output_type": "execute_result"
    }
   ],
   "source": [
    "problem2"
   ]
  },
  {
   "cell_type": "code",
   "execution_count": 11,
   "metadata": {},
   "outputs": [
    {
     "data": {
      "text/plain": [
       "['consideration',\n",
       " 'complementary',\n",
       " 'genome',\n",
       " 'conserved',\n",
       " 'conserved',\n",
       " 'Furthermore',\n",
       " 'approximately']"
      ]
     },
     "execution_count": 11,
     "metadata": {},
     "output_type": "execute_result"
    }
   ],
   "source": [
    "[re.sub(r'[\\xad\\s]', '', p) for p in problem2]"
   ]
  },
  {
   "cell_type": "code",
   "execution_count": 12,
   "metadata": {},
   "outputs": [
    {
     "data": {
      "text/plain": [
       "1"
      ]
     },
     "execution_count": 12,
     "metadata": {},
     "output_type": "execute_result"
    }
   ],
   "source": [
    "#문제3 : '- '와 공백으로 인한 단어의 끊어짐\n",
    "problem3 = re.findall(r'[A-Za-z]+-[a-z]+-\\s[a-z]+', gni3_Raw)\n",
    "len(problem3)"
   ]
  },
  {
   "cell_type": "code",
   "execution_count": 13,
   "metadata": {},
   "outputs": [
    {
     "data": {
      "text/plain": [
       "['non-re- dundant']"
      ]
     },
     "execution_count": 13,
     "metadata": {},
     "output_type": "execute_result"
    }
   ],
   "source": [
    "problem3"
   ]
  },
  {
   "cell_type": "code",
   "execution_count": 14,
   "metadata": {},
   "outputs": [
    {
     "data": {
      "text/plain": [
       "['non-redundant']"
      ]
     },
     "execution_count": 14,
     "metadata": {},
     "output_type": "execute_result"
    }
   ],
   "source": [
    "[re.sub(r'-\\s', '', p) for p in problem3]"
   ]
  },
  {
   "cell_type": "code",
   "execution_count": 15,
   "metadata": {},
   "outputs": [],
   "source": [
    "#파일 'gni-9-3-127.txt'\n",
    "gni9_Raw = GNICorpus.raw('gni-9-3-127.txt')"
   ]
  },
  {
   "cell_type": "code",
   "execution_count": 16,
   "metadata": {
    "scrolled": true
   },
   "outputs": [
    {
     "data": {
      "text/plain": [
       "'Optimized Internal Control and Gene Expression Analysis in Epstein-Barr Virus-Transformed Lymphoblastoid Cell Lines.\\n\\nThe Epstein-Barr virus-transformed lymphoblastoid cell line (LCL) is one of the major genomic resources for human genetics and immunological studies.  Use of LCLs is currently extended to pharmacogenetic studies to investigate variations in human gene expression as well as drug responses between individuals.  We evaluated four common internal controls for gene expression analysis of selected hematopoietic transcriptional regulatory genes between B cells and LCLs.  In this study, the expression pattern analyses showed that TBP (TATA box-binding protein) is a suitable internal control for normalization, whereas GAPDH (glyceraldehyde3phosphate dehydrogenase) is not a good internal control for gene expression analyses of hematopoiesisrelated genes between B cells and LCLs at different subculture passages.  Using the TBP normalizer, we found significant gene expression changes in selected hematopoietic transcriptional regulatory genes (downregulation of RUNX1, RUNX3, CBFB, TLE1, and NOTCH2; upregulation of MSC and PLAGL2) between B cells and LCLs at different passage numbers.  These results suggest that these hematopoietic transcriptional regulatory genes are potential cellular targets of EBV infection, contributing to EBV-mediated B-cell transformation and LCL immortalization. Keywords: lymphoblastoid cell line, internal control, quantitative real-time polymerase chain reactionEBVinfected B cells are transformed into continuously proliferating lymphoblastoid cell lines (LCLs), which provide genomic resources for human genetics and immunological studies.  However, there is a limitation of LCL utilization, due to possible genetic changes in the process of EBV transformation (Shukla and Dolan, 2005; Haas et al., 2006).  It is controversial that LCLs are suitable as an experimental material of genomewide association studies (SimonSanchez et al., 2007).  Nonetheless, the use of LCLs is currently extended to pharmacogenetic studies to investigate variations in human gene expression as well as drug responses between individuals.  For example, gene expression phenotypes were investigated in LCLs for the relative impact of nucleotide and copy number variation (Stranger et al., 2007).   EBV infection induces gene expression changes in B cells, contributing to immortalization.  A number of cellular genes have been identified as targets of EBV infection in various systems, including inducible and stable lymphoma cell lines that have been transfected with particular viral gene expression vectors or infected with EBV (Carter et al., 2002; Kelly et al., 2002; Cahir McFarland et al., 2004; Kang et al., 2005).  For gene expression analysis, appropriate internal controls should be carefully selected to normalize the expression of target genes in LCLs.  Generally, housekeeping genes are used as internal controls for gene expression studies, assuming that such genes exhibit relatively constant basal levels of gene expression under all conditions.  However, not all housekeeping genes are always applied to the normalization of gene expression data under all conditions (Thellin et al., 1999).  It has been reported that the comparison of target gene expression needs particular internal controls that are suitable in different tissues or different physiological conditions in human and other organisms (Selvey et al., 2001; Vandesompele et al., 2002; Lossos et al., 2003; Filby and Tyler, 2007; Theis et al., 2007; Rho et al., 2010).  Among housekeeping genes, GAPDH has been demonstrated to be a good internal control in tumor cell lines (Janssens et al., 2004), while HPRT has been identified as a good reference gene for cancer research when comparing solid tumor tissue samples with normal tissue samples (de Kok et al., 2005; Ohl et al., 2005).  Thus, it is recommended that suitable internal controls should be determined for accu  \\u3000\\u3000\\u3000\\u3000rate normalization of gene expression data.    For peripheral blood cells or leukemia/lymphoma cell lines, GAPDH is frequently used to normalize gene expression data (Natkunam et al., 2005; Saunders et al., 2005).  According to our previous microarray data, the choice of GAPDH may be problematic as an internal control of gene expression analysis before and after EBV infection.  In addition, as the use of LCLs is expanded to various areas of genomics, including pharamcogenomics, gene expression analysis of LCLs needs optimized internal controls.  Here, we evaluated four common internal controls for gene expression analysis between B cells and LCLs, applying them to an expression analysis of selected hematopoietic transcriptional regulatory genes.  TBP was finally selected as an optimal internal control for gene expression analysis between B cells and LCLs.  Peripheral blood was obtained from the Jungang Blood Center of the Korean Red Cross.  FicollHypaque gradient centrifugation was performed to isolate peripheral blood mononuclear cells according to the manufacturer’s instructions (Amersham).  Primary CD19(+) B cells were then purified by negative selection using a B cell isolation kit (Miltenyi Biotech).  EBV viral stock was collected from the culture of an EBV-transformed B958 marmoset cell line, which was maintained at 37oC and 5% CO2 for 4∼7 days and then stored at －80oC until needed.  EBV infection of primary B cells and LCL generation were performed as described elsewhere (Hur et al., 2005).  Briefly, EBV-infected B-cells were incubated in RPMI-1640 supplemented with 10% FBS and penicillin-streptomycin (100μg/100 unit) for 10∼20 days until clumps of EBV-infected B cells were visible.  The culture medium was then changed with fresh complete medium for subsequent subculture.  When cell numbers of EBV-infected B-cells reached approximately 10 million cells per culture flask, the cells were used for the next passage at a seeding density of 2∼5×105 cells/ ml.  At this point, the LCL was referred as passage number 1.  Next, the LCL culture was divided for continuous subculture with fresh medium approximately twice per week and maintained to passage number 100. Total RNA was isolated from B-cells and counterpart LCLs from three donors using Trizol (Invitrogen) and treated with DNase I prior to the synthesis of firststrand cDNA using oligo (dT) primer and the Superscript II reverse transcription kit (Invitrogen).  Semiquantitative RT PCR was performed for some selected genes.  Gene expression levels of some selected genes were estimated by semiquantitative RTPCR with the following conditions: 25 cycles of 40 sec at 94oC, 40 sec at 60oC, and 100 sec at 72oC for RUNX3, MSC, and GAPDH and 32 cycles for NOTCH2 and TLE1.    For quantitative realtime PCR, amplification mixtures (50 ul) contained 10∼100 ng of firststrand cDNA template, 25 ul of 2× SYBR Green Master Mix buffer (Invitrogen), and 600 nM of forward and reverse primers (Table 1) for: control genes βactin (ACTB), glyceraldehyde3phosphate dehydrogenase (GAPDH), β2microglobulin (B2M), and TATA boxbinding protein (TBP); and target genes pleiomorphic adenoma genelike 2 (PLAGL2), musculin (MSC)/activated Bcell factor (ABF1), transducinlike enhancer of split 1 (TLE1), Notch homolog 2 (NOTCH2), Runtrelated transcription factor 1 (RUNX1), Runtrelated transcription factor 3 (RUNX3), and core binding factor beta subunit (CBFB).  PCR cycles were 95oC for 10 min, followed by 40 cycles of 95oC for 15 sec, and 60oC for 1 min.  Reactions were run on an ABI HT 7900 (Applied Biosystems).  Relative expression levels, Δ(CTgeneCTcontrol), were displayed as the difference in CT (threshold cycle) between genes of interest and internal control genes.     For the correlation coefficient analysis of gene expression patterns, expression levels of particular genes of interest were normalized to four different reference genes.  Then, correlation coefficients were calculated from the expression levels (CT values), normalized to pairs of reference genes (e. g., ACTB vs TBP, ACTB vs B2M, ACTB vs GAPDH, TBP vs B2M, TBP vs GAPDH, B2M vs GAPDH). To address the question of whether GAPDH is a suit                able internal control for gene expression analysis of various types of LCLs, we evaluated four common housekeeping genes as internal control genes.  First, we extracted expression data on ACTB, TBP, B2M, and GAPDH as well as some genes of interest from our previous microarray data (Baik et al., 2007), indicating upregulation of GAPDH and ACTB in LCLs compared to B cells.  However, TBP and B2M exhibited less than a 2-fold change between B-cells and LCLs (Table 2).  In addition, with regard to B cell transformation, some genes of interest were randomly selected for expression studies of hematopoiesis and lymphomagenesisrelated genes.  Our microarray data showed that PLAGL2, MSC, TLE1, RUNX1, and NOTCH2 exhibited significant changes in gene expression levels between Bcells and LCLs (Table 2), whereas the other genes (i. e., RUNX3, CBFB) exhibited less than a 2-fold change.  For these selected genes, RT-PCR had similar gene expression patterns for RUNX3, MSC, TLE1, and NOTCH2 as the microarray data (Fig.  1).    Four common housekeeping genes were included in the quantitative real-time PCR of hematopoietic transcriptional regulatory genes so that relative gene expression levels could be obtained by normalization.  In a comparison of gene expression only between B cells and early passages of LCLs, similar patterns in hematopoietic gene expression were observed when normalized by TBP, ACTB, and B2M but not by GAPDH (Fig.  1B), indicating that the expression pattern of GAPDH deviated from those of the other housekeeping genes.  This result suggested that GAPDH expression might be upregulated in EBV-infected B cells during LCL generation.  Indeed, GAPDH upregulation was seen in LCLs of different passage numbers compared with B cells when normalized by TBP (Fig.  1C).    Next, expression levels of hematopoietic genes were plotted in reference to each internal control (Fig.  1C).  In a comparison of expression patterns between B cells and three different time points of long-term subcultures of LCLs (i. e., L1: EBVinfected B cells, L2: early passage LCLs, L3: late passage LCLs), correlation coefficients of individual expression patterns were calculated by pair wise comparison of normalized expression levels using four different internal controls (Table 3).  For seven genes that were tested, TBPnormalized expression levels of each gene were correlated with ACTBnormalized expression levels, whereas the worst correlation coefficients of normalization between GAPDH and B2M were seen.  This result suggested that TBP or ACTB might be a suitable internal control for gene expression analyses of hematopoiesisrelated genes in various subculture passages of LCLs.  However, our previous microarray data showed that ACTB was upregulated by about 4 fold in LCLs compared with B cells (Baik et al, 2007).  Therefore, TBP was finally selected as an internal control for further gene expression analysis of hematopoietic transcriptional regulatory genes of interest.     Next, the optimized internal control, TBP, was applied to the gene expression analysis of seven randomly selected hematopoietic transcriptional regulatory genes in LCLs.  Realtime PCR results showed that gene expression levels of MSC, TLE1, RUNX1, PLAGL2, and GAPDH changed dramatically between B cells and LCLs, whereas those of RUNX3 and CBFB changed slightly after EBV infection (Fig.  1C).  Interestingly, the upregulation or downregulation patterns that were detected in EBVinfected cells were sustained until the middle passage number (100) of LCLs.  Thus, these results suggest that dysregulation of these selected hematopoietic genes may contribute to EBVmediated B cell transformation and LCL immortalization.  Gene expression studies of EBVtransformed LCLs have commonly used GAPDH or ACTB as internal controls for normalization (BaranMarszak et al., 2002).  In our previous study, global gene expression patterns between B   cells and LCLs were obtained from our microarray analysis, in which GAPDH was used as an internal control for validation of gene expression (Baik et al., 2007).  In general, internal control genes need relatively constant basal levels of gene expression in experimental conditions.  However, our microarray data suggested that some housekeeping genes might be dysregulated between B cells and LCLs.  Therefore, we evaluated four common housekeeping genes as suitable internal controls for the normalization of mRNA expression and applied them to a gene expression study of potential cellular target genes of EBV infection.  Our results showed that the transcriptional level of GAPDH increased in the process of EBV-mediated B-cell transformation.  The upregulation of GAPDH might be involved in Bcell reprogramming during LCL generation.  Alternatively, GAPDH might be a direct cellular target gene of EBV infection.  Generally, the expression of B cell-specific genes is lost, and B lineage-inappropriate genes are upregulated during malignant transformation of lymphoid cells, suggesting B-cell reprogramming during EBV-mediated Bcell transformation (Janz et al., 2006).  Therefore, GAPDH may not be suitable for internal controls in gene expression analyses between B-cells and LCLs.  Furthermore, a correlation coefficient analysis for gene expression profiles, normalized by four housekeeping genes, showed that TBP was found to be a suitable internal control in the gene expression analysis between B cells and LCLs.  Moreover, TBP expression level was found to be moderately abundant in B cells and LCLs, as determined by the CT difference between genes of interest and TBP (Fig.  1B).  Although many other housekeeping genes were not evaluated in this study, at least TBP can be used as an optimum internal control for gene expression analysis, regardless of the status of Bcells (e. g., primary, EBV-infected B-cells) or longterm subculture of LCLs.  Thus, we finally selected TBP as a normalizer for further gene expression studies of hematopoietic transcriptional regulatory genes.   It is known that the hematopoietic genes that were selected for this study are involved in hematopoiesis and lymphoid malignancies.  For example, PLAGL2, a developmentally regulated C2H2 zinc finger on chromosome 8q12, is the main target for pleomorphic adenomas of the salivary gland.  Recently, it was reported that PLAGL2 induced acute myeloid leukemia in cooperation with CBFB-MYH11 in mice (Landrette et al., 2005).  Our results showed that PLAGL2 was upregulated in EBV-infected B-cells and LCLs, suggesting that PLAGL2 may be a potential target of EBV-mediated Bcell transformation.  On the other hand, RUNX family members are heterodimeric transcription factors composed of an α subunit, RUNX, and a β subunit, CBFβ.  Of the three members of the RUNX family, RUNX1 is known as a master regulatory gene of hematopoiesis.  According to the literature, RUNX3 was identified as a cellular target of EBNA2 in the inducible cell line (Spender et al., 2002).  The distal P1 promoter of RUNX1 controls expression of the RUNX1c isoform, while the proximal P2 promoter expresses RUNX1a (AML1a) and RUNX1b (AML1b) (Miyoshi et al., 1991).  RUNX3 represses transcription from the RUNX1 P1 promoter, indicating transcriptional crossregulation of RUNX1 by RUNX3 in human B cells (Spender et al., 2005).  On the contrary, our PCR results showed that RUNX1 expression was downregulated in parallel with slight downregulation of RUNX3 between B cells and LCLs, which is inconsistent with a previous report of crossregulation by RUNX3.  This discrepancy might be due to a different PCR target of RUNX1 isoforms, because the RUNX isoform that we examined in our study was the RUNX1 P2 transcript rather than RUNX1 P1 transcripts.  Musculin (activated Bcell factor1, MSC) is a basic helixloophelix transcription factor, and its expression is restricted to a subset of lymphoid tissues, lymphoblastoid cell lines, and activated human B cells.  MSC (ABF1) expression is restricted to a subset of lymphoid tissues, lymphoblastoid cell lines, and activated human B cells (Massari et al., 1998), suggesting that MSC is a downstream target of the Bcell receptor signal transduction pathway.  With respect to cell growth, EBV infection mimics Bcell activation signals or factors, such as CD40CD40L, IgM, and LPS, so that EBVinfected Bcells exhibit greater proliferation than resting Bcells (Kilger et al., 1998).  Thus, the upregulation of MSC in LCLs might be responsible for greater proliferative activity in EBVinfected Bcells compared with Bcells.  TLE (transducinlike enhancer of split) genes are human homologs of the Drosophila groucho gene.  TLE1 binds to the Runt domain and the C terminus of RUNX1 to inhibit RUNX1induced transactivation of the CSF1 (colony stimulating factor 1) receptor.  Our PCR analysis showed that TLE1 and NOTCH2 were downregulated in LCLs compared with Bcells, suggesting that Notch signaling may be involved in EBVmediated Bcell transformation.  Taken together, our results suggest that the hematopoietic transcriptional regulatory genes that were tested in this study may be potential cellular targets of EBV infection during LCL generation.    In conclusion, we evaluated four common internal controls for a gene expression analysis between B cells and LCLs and found TBP as a suitable internal control.  Expression analysis using a TBP normalizer allowed us to identify dramatic changes in selected hematopoietic transcriptional regulatory genes (downregulation of RUNX1, RUNX3, CBFB, TLE1, and NOTCH2; upregula  tion of MSC and PLAGL2) during EBV-mediated Bcell transformation and LCLs at different passages.  Therefore, these genes may be potential cellular targets of EBV infection and potential reference biomarkers of LCL generation.  This work was supported by an intramural grant (2010 N74001-00) of  Korea National Institute of Health, Korea Centers for Disease Control and Prevention.   '"
      ]
     },
     "execution_count": 16,
     "metadata": {},
     "output_type": "execute_result"
    }
   ],
   "source": [
    "gni9_Raw"
   ]
  },
  {
   "cell_type": "code",
   "execution_count": 17,
   "metadata": {},
   "outputs": [
    {
     "data": {
      "text/plain": [
       "3"
      ]
     },
     "execution_count": 17,
     "metadata": {},
     "output_type": "execute_result"
    }
   ],
   "source": [
    "#문제4 : 단어 사이에 공백으로 인한 끊어짐\n",
    "problem4 = re.findall(r'[a-z]+[\\s]{2,}[a-z]+', gni9_Raw)\n",
    "len(problem4)"
   ]
  },
  {
   "cell_type": "code",
   "execution_count": 18,
   "metadata": {
    "scrolled": false
   },
   "outputs": [
    {
     "data": {
      "text/plain": [
       "['accu  \\u3000\\u3000\\u3000\\u3000rate',\n",
       " 'suit                able',\n",
       " 'upregula  tion']"
      ]
     },
     "execution_count": 18,
     "metadata": {},
     "output_type": "execute_result"
    }
   ],
   "source": [
    "problem4"
   ]
  },
  {
   "cell_type": "code",
   "execution_count": 19,
   "metadata": {
    "scrolled": true
   },
   "outputs": [
    {
     "data": {
      "text/plain": [
       "['accurate', 'suitable', 'upregulation']"
      ]
     },
     "execution_count": 19,
     "metadata": {},
     "output_type": "execute_result"
    }
   ],
   "source": [
    "[re.sub('[\\s]{2,}', '', p) for p in problem4]"
   ]
  },
  {
   "cell_type": "code",
   "execution_count": 20,
   "metadata": {},
   "outputs": [],
   "source": [
    "#1 ) 파일 'gni-1-1-20.txt' 비교해보기\n",
    "comp_gni1_Raw = GNICorpus.raw('gni-1-1-20.txt')"
   ]
  },
  {
   "cell_type": "code",
   "execution_count": 21,
   "metadata": {
    "scrolled": true
   },
   "outputs": [
    {
     "data": {
      "text/plain": [
       "\"Global Optimization of Clusters in Gene Expression Data of DNA Microarrays by Deterministic Annealing.\\r\\n\\r\\nThe analysis of DNA microarry data is one of the most important things for functional genomics research. The matrix representation of microarray data and its successive optimal incisional hyperplanes is a useful platform for developing optimization algorithms to determine the optimal partitioning of pairwise proximity matrix representing completely connected and weighted graph. We developed Deterministic Annealing (DA) approach to determine the successive optimal binary partitioning. DA algorithm demon\\xad strated good performance with the ability to find the globally optimal’ binary partitions. In addition, the objects that have not been clustered at small non\\xad zero temperature, are considered to be very sensitive to even small randomness, and can be used to estimate the reliability of the clustering.\\r\\n\\r\\nThe cluster analysis is one of the most prominent methods for analyzing DNA microarray data. It explores the internal\\r\\n\\r\\nstructure of complex data by organizing them into meaningful groups. Genes of a similar expression pattern may share similar function, clustering gene expression profiles can be used for tentative assignment of functional annotation of the unknown genes based on the functional annotations of the known genes (Eisen et al., 1998). Cluster analysis is also useful in classifying tissues on the basis of gene expression. Cancerous and normal tissues can be distinguished with genes of subtle differences in gene expression (Alon etal., 1999). Golub etal. suggested molecular classification of cancer using cluster analysis, which categorizes leukemia into acute myeloid leukemia (AML) and acute lymphoblastic leukemia (ALL) without prior knowledge about their gene expression patterns (Golub et al., 1999). They also developed leukemia class predictor by supervised learning method based on gene expression data. Since there is the correlation between the motif existence in promoter region and gene expression profile, it has been shown that co-regulated genes can be identified by cluster analysis (Tavazoie and Church, 1998; Tavazoie etal., 1999). Holmes and Bruno considered gene expression data and promoter sequences simultaneously to find co-regulated genes by cluster analysis (Holmes and Bruno, 2000).\\r\\n\\r\\nThe matrix representation of microarray data and its successive 'optima! incisional hyperplanes by Kim et al. (Kim et al., 2001) constitutes a useful platform for developing optimization algorithm to determine the optimal partitioning of pairwise proximity matrix representing completely connected and weighted graph. In this method, the clustering and the clustering analysis is formulated as an optimization problem whose global optimum is found by various global optimizers. Previously, MITree algorithm (Kim etal., 2001) and evolution strategy (Lee etal., 2001) are applied to this cluster analysis. Both of them demonstrated good performances with the ability to find the globally optimal’ successive binary partitions. MITree-K is a K-partitioning extension of the same geometric principle (Kim eta/., 2002).\\r\\n\\r\\nIn this paper, we applied a heuristic global optimization method, Deterministic Annealing (DA), to the same clustering method. In DA approach, the cost function is locally minimized subject to a constraint on a given randomness (Shannon entropy), controlled by temperature’ that is gradually lowered. As the temperature goes slowly down to zero, we obtain the best binary partitioning by the analogy of statistical physics in\\r\\n\\r\\n\\r\\nannealing process. Even though global optimization approach produces the high quality clustering results, in general, it requires much computational cost. But, since the speed of DA algorithm depends on that of the local optimizer, if we employ high performance local optimization technique, the computation cost can be substantially reduced. It was also demonstrated that error-prone objects can be identified by monitoring the annealing process, which can be applied to increase the quality of clustering analysis.\\r\\n\\r\\nThe Fisher’s iris data set has been widely used for evaluating the performance of cluster algorithms (Fisher, 1936). The iris data set consists of four measurements (petal/sepal length and petal/sepal width) of 50 Iris Setosa, 50 Iris Versicolor, and 50 Iris Virginica. In this test, the similarity measures between the iris flowers are the square values of the Pearson’s correlation coefficient. And, temperature cooling parameter a is equal to 0.95. As seen in Fig. 1, the first binary partitioning separated all Setosa from the entire data set without any error. The next partitioning of 50 Versicolor s and 50 Virginica! s gave rise to six errors. Three Versicolor s (objects 9, 12, 40) were clustered to Virginica and three Virginica s (objects 66, 77, 81) to Versicolor. The overall accuracy of clustering was 96% (144/150). The repeated results of our algorithm were the same.\\r\\n\\r\\nThe Fig. 2 shows how x s are reduced to 0 or 1 as the temperature decreases to zero. We see that X9, Xl2, X40, and X59 are reduced to 0 or 1 slowly relative to other x’ s and\\r\\n\\r\\nthese variables correspond to the objects misclassified as above. Because the misclassified objects might be near the cluster boundaries, they are very susceptible to randomness. Hence, even at small temperature, they are not bounded and easily agitated from 0 or 1. This concept is very helpful to find significant clusters which are robust to any possible errors or randomness. In addition, we can reduce computation time substantially using this concept. Because the slowly relaxing variables may not contribute to clustering quality and require great time-consumption to be relaxed to 0 or 1 as Fig. 2, we can terminate the algorithm before all the variables are reduced to 0 or 1. In fact, we can use the following stopping criteria\\r\\n\\r\\n1) terminate the algorithm if pre-assigned number of iteration is reached. And the point whose value remains the region {0 < x < 1} is regarded as an outlier, or\\r\\n\\r\\n2) terminate the algorithm if all x s are in the neighborhood {0 < x < e} of 0 or neighborhood {1 - e < x < 1} of 1, where e is a small positive parameter (e.g. e = 0.1) when pre-assigned number of iteration is reached.\\r\\n\\r\\nWe also tested our algorithm using Golub’s leukemia data set from 38 human acute leukemia cells, which was used for training class predictor of acute myeloid leukemia (AML) and acute lymphoblastic leukemia (ALL) (Golub et al., 1999). The ALL group consists of T-cell ALL's (T-ALL) and B-cell ALL’s (B-ALL). In the experiment, RNA extracted from each leukemia sample was hybridized to high density microarrays containing 6,817 human genes. After scanning the microarrays and image processing, the expression levels of each gene for each leukemia cell were quantified. It has been shown that leukemia class prediction was\\r\\n\\r\\n\\r\\nfeasible by this gene expression monitoring without additional biological knowledge. Golub et al. selected 50 genes highly correlated with ALL-AML class distinction. The Fig. 3 demonstrates the results of our cluster algorithm applied to leukemia data using the 50 genes. The first binary partitioning distinguished ALL from AML with 1 error, and the second distinction of ALL between TALL and IB- ALL gave rise to 1 error. Two B-ALL samples were mis\\xad classified into AML and T-ALL, respectively. The overall accuracy of the result was 94.7% (36/38). The repeated results of our algorithm were the same.\\r\\n\\r\\nDue to the recent development of high-throughput experimental techniques in functional genomics, we are facing the flood of large-scale gene expression data. The needs of analysis of such biological data shed light on the importance of cluster analysis, basic methodology to reveal internal structure of complex data. Because cluster analysis is the first phase of mining useful information, the reliability of clustering results is responsible for the quality of information extracted in the following stages. The direct maximization of the fig. of merit (clustering index) which is main difference with conventional cluster algorithms can be good strategy to increase clustering quality. We have shown that deterministic annealing was effectively applied to find globally optimal clusters. Previously, we applied two different approaches MITree algorithm and evolution strategy to this problem and have the same results (Kim et al., 2001; Lee et al., 2001). We also find possibility that we can identify the clustered objects that are susceptible to errors or randomness and irrelevant to increase clustering quality. This concept has good possibility to be applied to\\r\\n\\r\\nfind relevant and robust clusters and reduce computation time substantially.' In addition, our approach does not needs any prior assumption about data structure and considers global perspective of data in clustering. We can also apply this algorithm with different clustering indices and similarity measures, which is not possible in algorithm dependent methods such as K-means and SOM. Even though the computational cost is quite high in this preliminary study with iris and leukemia data sets, we have shown that our approach is promising for the further investigation with a variety of data sets, similarity measures and local optimization algorithms.\\r\\n\\r\\nA set of DNA microarray experiments data can be viewed as a completely connected and weighted graph of genes or arrays (i.e., cell lines) with similarity measures. The vertices of the graph correspond to the objects to be clustered and the edges represent the similarity between the objects. The similarity measures can be stored in pairwise proximity\\r\\n\\r\\nmatrix. This representation makes the algorithm independent of similarity measures, while the other algorithms like K-Means and SOM (Self-Organizing Maps) mingle with the given similarity measure.\\r\\n\\r\\nThe cluster analysis proposed in this paper is done by successive binary partitioning, which produces top-down hierarchical tree. Binary partitioning decomposes the graph into two parts with optimized fig. of merit (clustering index) called Mil (Matrix Incision Index) suggested by Kim et al. (Kim et al., 2001). The Mil includes homogeneity and separation of binary partition. Homogeneity indicates that each object within the same cluster should have high similarity. On the other hand, separation means that the objects between clusters should have low similarity. These requirements are incorporated into Mil as follows:\\r\\n\\r\\nwhere m and n are the numbers of objects in groups 1 and 2, respectively, a is the average link strength between groups 1 and 2, b and c are within-group average link strength of group 1 and 2, respectively. The numerator of Mil corresponds to homogeneity, the denominator to separation. Since homogeneity/ separation should be as high/low as possible in binary partitioning, we should maximize the MIL The index is defined directly from the similarity matrix without prior information regarding the structure of data set. After defining the Mil, we should find\\r\\n\\r\\n\\r\\nhow to get to its global maximum. Because there is no general and rigorous mathematical method for the global optimization problem, a feasible way is to use heuristic methods to adopt randomness to escape local optima, one of which is deterministic annealing used in this paper. The advantage of global optimization of clustering is to increase clustering quality because the clustering index is directly optimized differing from other algorithms such as K-means and SOM. In addition, we do not have any prior assumption about data structure. One possible disadvantage is that this global optimization algorithm might be relatively slower than other local optimization algorithms.\\r\\n\\r\\nWe describe a heuristic algorithm creating a hierarchical tree from complex data by iterative optimal binary partitioning, based on DA. The best binary partitioning can be found by the global maximization of Mil introduced in the previous section as a clustering index (Eq. 1). Motivated by the annealing process of heating and slowly cooling materials to obtain the most stable structure, Kirkpatirck et al. have proposed this stochastic optimization method called Simulated Annealing (SA) in an attempt to find global optimum (Kirkpatrick et al., 1983). Using SA, the optimal solution is randomly searched over the cost function landscape with higher probability for low cost function. As the temperature, the parameter representing randomness in searching decreases gradually, the solution is converged to global minimum.\\r\\n\\r\\nSA was applied to cluster analysis of temporal gene expression profiles and finding the optimal number of clusters (Lukashin et al., 2001). A deterministic version of SA called Deterministic Annealing requires much less computational cost because stochastic simulation in SA is replaced by the corresponding expectation values. The randomness is incorporated into cost function to be minimized, and the function is locally minimized in the course of lowering temperature. Rose et al. applied DA to the central clustering analysis which requires clustering centroids as K-means algorithm (Rose et al., 1990; Rose, 1998) and it was used in analyzing tumor and normal colon cancer tissues probed by oligonucleotide arrays (Alon et al., 1999).\\r\\n\\r\\nTo specify data partition, we assign 0 or 1 to each object. Although it is essentially a discrete (combinatorial) optimization to find the best partitioning, the problem is transformed into a continuous version, if the clustering assignments denoted by x are in the range [0,1]. Here, x s denote the average of the many discrete states in stochastic simulation of the annealing process. Using these\\r\\n\\r\\naverage clustering assignments, we can represent Mil as follows.\\r\\n\\r\\nHere, La is similarity between object i and J, and N is the number of objects to be partitioned.\\r\\n\\r\\nInstead of optimizing Mil alone, we define free energy, F which includes randomness of clustering as follows, and carry out local optimization at given temperature, T.\\r\\n\\r\\nHere, S is the Shannon entropy which measures the level of randomness, and T controls randomness of clustering assignment during the annealing. We carry out local optimization at each stage of temperature cooling process base on the optimization result from previous temperature. As the temperature goes slowly down, we obtain the best binary partitioning by the analogy of statistical physics in annealing process. This DA approach was successfully applied to Traveling Salesman Problem (TSP) by Hopfield and Tank in a similar manner (Hopfield and Tank, 1985). We can re-interpret this problem from the viewpoint of constraint optimization. Here, we should minimized the object function, -Mil subject to the constraint, 5=0, which requires every x should be 0 or 1. To deal with such a constraint optimization problem, we define Lagrangian function which is the same as free energy, Eq. 8 with undetermined Lagrangian multiplier, T. \\\\Ne can find\\r\\n\\r\\n\\r\\nextrema of constraint object function and Lagrangian multiplier, T by the condition, aF/ax = dF/zT = 0. If minimal point of -Mil is located at the corner of hypercube defined by {xi I 0 < Xi < 1}, the critical temperature is positive. On the other hand, the minimum point located at the middle of hypercube results in negative critical temperature, differing from what we see in statistical physics. The annealing can be seen to find such critical points of Lagrangian function as it scans given range of T.\\r\\n\\r\\nTo find globally optimized binary partitioning, we\\r\\n\\r\\nimplemented the DA approach as follows.\\r\\n\\r\\n(1) Initialize: random initialization of x., temperature\\r\\n\\r\\ninitialization (T«—To), Set cooling coefficient (0< a <l)\\r\\n\\r\\n(2) Local optimization of F at given T (3) If all xi s are 0 or 1\\r\\n\\r\\n- Termination\\r\\n\\r\\nelse\\r\\n\\r\\n- Temperature decreases as T<—To, Go to (2)\\r\\n\\r\\nIn this paper, we used the standard multidimensional local optimization technique which incorporates one\\xad dimensional line search method (Bazaraaeta/., 1993). The improving feasible direction of the line search is determines by calculating gradient of cost function in the feasible region {x< I 0 < x.< 1}. At the boundary of the feasible region, the generation of the improving feasible direction is done by solving a sub-problem of linear programming.\\r\\n\\r\\n\""
      ]
     },
     "execution_count": 21,
     "metadata": {},
     "output_type": "execute_result"
    }
   ],
   "source": [
    "comp_gni1_Raw"
   ]
  },
  {
   "cell_type": "code",
   "execution_count": 22,
   "metadata": {},
   "outputs": [
    {
     "data": {
      "text/plain": [
       "13"
      ]
     },
     "execution_count": 22,
     "metadata": {},
     "output_type": "execute_result"
    }
   ],
   "source": [
    "gni1_test1 = re.findall(r'[A-Z|a-z|0-9]+[\\s]{2,}\\n[a-z|R-]+[0-9]?', comp_gni1_Raw)\n",
    "len(gni1_test1)"
   ]
  },
  {
   "cell_type": "code",
   "execution_count": 23,
   "metadata": {},
   "outputs": [
    {
     "data": {
      "text/plain": [
       "['internal\\r\\n\\r\\nstructure',\n",
       " 'in\\r\\n\\r\\n\\r\\nannealing',\n",
       " 'and\\r\\n\\r\\nthese',\n",
       " 'was\\r\\n\\r\\n\\r\\nfeasible',\n",
       " 'to\\r\\n\\r\\nfind',\n",
       " 'proximity\\r\\n\\r\\nmatrix',\n",
       " 'find\\r\\n\\r\\n\\r\\nhow',\n",
       " 'these\\r\\n\\r\\naverage',\n",
       " 'find\\r\\n\\r\\n\\r\\nextrema',\n",
       " 'we\\r\\n\\r\\nimplemented',\n",
       " 'temperature\\r\\n\\r\\ninitialization',\n",
       " '1\\r\\n\\r\\n-',\n",
       " 'Termination\\r\\n\\r\\nelse']"
      ]
     },
     "execution_count": 23,
     "metadata": {},
     "output_type": "execute_result"
    }
   ],
   "source": [
    "gni1_test1"
   ]
  },
  {
   "cell_type": "code",
   "execution_count": 24,
   "metadata": {},
   "outputs": [
    {
     "data": {
      "text/plain": [
       "['internal structure',\n",
       " 'in annealing',\n",
       " 'and these',\n",
       " 'was feasible',\n",
       " 'to find',\n",
       " 'proximity matrix',\n",
       " 'find how',\n",
       " 'these average',\n",
       " 'find extrema',\n",
       " 'we implemented',\n",
       " 'temperature initialization',\n",
       " '1 -',\n",
       " 'Termination else']"
      ]
     },
     "execution_count": 24,
     "metadata": {},
     "output_type": "execute_result"
    }
   ],
   "source": [
    "[re.sub(r'[\\r\\n]+', ' ', p) for p in gni1_test1]"
   ]
  },
  {
   "cell_type": "code",
   "execution_count": 25,
   "metadata": {},
   "outputs": [
    {
     "data": {
      "text/plain": [
       "4"
      ]
     },
     "execution_count": 25,
     "metadata": {},
     "output_type": "execute_result"
    }
   ],
   "source": [
    "gni1_test2 = re.findall(r'[A-Za-z]+\\xad[\\s]+[a-z]+',comp_gni1_Raw)\n",
    "len(gni1_test2)"
   ]
  },
  {
   "cell_type": "code",
   "execution_count": 26,
   "metadata": {},
   "outputs": [
    {
     "data": {
      "text/plain": [
       "['demon\\xad strated',\n",
       " 'non\\xad zero',\n",
       " 'mis\\xad classified',\n",
       " 'one\\xad dimensional']"
      ]
     },
     "execution_count": 26,
     "metadata": {},
     "output_type": "execute_result"
    }
   ],
   "source": [
    "gni1_test2"
   ]
  },
  {
   "cell_type": "code",
   "execution_count": 27,
   "metadata": {},
   "outputs": [
    {
     "data": {
      "text/plain": [
       "['demonstrated', 'nonzero', 'misclassified', 'onedimensional']"
      ]
     },
     "execution_count": 27,
     "metadata": {},
     "output_type": "execute_result"
    }
   ],
   "source": [
    "[re.sub(r'[\\xad\\s]', '', p) for p in gni1_test2]"
   ]
  },
  {
   "cell_type": "code",
   "execution_count": 28,
   "metadata": {},
   "outputs": [
    {
     "data": {
      "text/plain": [
       "0"
      ]
     },
     "execution_count": 28,
     "metadata": {},
     "output_type": "execute_result"
    }
   ],
   "source": [
    "gni1_test3 = re.findall(r'[A-Za-z]+-[a-z]+-\\s[a-z]+', comp_gni1_Raw)\n",
    "len(gni1_test3)"
   ]
  },
  {
   "cell_type": "code",
   "execution_count": 29,
   "metadata": {},
   "outputs": [
    {
     "data": {
      "text/plain": [
       "[]"
      ]
     },
     "execution_count": 29,
     "metadata": {},
     "output_type": "execute_result"
    }
   ],
   "source": [
    "gni1_test3"
   ]
  },
  {
   "cell_type": "code",
   "execution_count": 30,
   "metadata": {},
   "outputs": [
    {
     "data": {
      "text/plain": [
       "12"
      ]
     },
     "execution_count": 30,
     "metadata": {},
     "output_type": "execute_result"
    }
   ],
   "source": [
    "gni1_test4 = re.findall(r'[A-Za-z]+[\\s]{2,}[a-z]+', comp_gni1_Raw)\n",
    "len(gni1_test4)"
   ]
  },
  {
   "cell_type": "code",
   "execution_count": 31,
   "metadata": {},
   "outputs": [
    {
     "data": {
      "text/plain": [
       "['internal\\r\\n\\r\\nstructure',\n",
       " 'in\\r\\n\\r\\n\\r\\nannealing',\n",
       " 'and\\r\\n\\r\\nthese',\n",
       " 'was\\r\\n\\r\\n\\r\\nfeasible',\n",
       " 'to\\r\\n\\r\\nfind',\n",
       " 'proximity\\r\\n\\r\\nmatrix',\n",
       " 'find\\r\\n\\r\\n\\r\\nhow',\n",
       " 'these\\r\\n\\r\\naverage',\n",
       " 'find\\r\\n\\r\\n\\r\\nextrema',\n",
       " 'we\\r\\n\\r\\nimplemented',\n",
       " 'temperature\\r\\n\\r\\ninitialization',\n",
       " 'Termination\\r\\n\\r\\nelse']"
      ]
     },
     "execution_count": 31,
     "metadata": {},
     "output_type": "execute_result"
    }
   ],
   "source": [
    "gni1_test4"
   ]
  },
  {
   "cell_type": "code",
   "execution_count": 33,
   "metadata": {},
   "outputs": [
    {
     "data": {
      "text/plain": [
       "['internal structure',\n",
       " 'in annealing',\n",
       " 'and these',\n",
       " 'was feasible',\n",
       " 'to find',\n",
       " 'proximity matrix',\n",
       " 'find how',\n",
       " 'these average',\n",
       " 'find extrema',\n",
       " 'we implemented',\n",
       " 'temperature initialization',\n",
       " 'Termination else']"
      ]
     },
     "execution_count": 33,
     "metadata": {},
     "output_type": "execute_result"
    }
   ],
   "source": [
    "[re.sub('[\\s]{2,}', ' ', p) for p in gni1_test4]"
   ]
  },
  {
   "cell_type": "code",
   "execution_count": 34,
   "metadata": {},
   "outputs": [],
   "source": [
    "# 파일2) 'gni-2-3-147.txt' 비교해보기\n",
    "comp_gni2_Raw = GNICorpus.raw('gni-2-3-147.txt')"
   ]
  },
  {
   "cell_type": "code",
   "execution_count": 35,
   "metadata": {
    "scrolled": true
   },
   "outputs": [
    {
     "data": {
      "text/plain": [
       "'MitGEN: Single Nucleotide Polymorphism DB Browser for Human Mitochondrial Genome\\r\\n\\r\\nRecently completed mitochondrial genome databses from public resources provide us with a better understanding of individual mitochondrial genomes for population\\r\\n\\r\\ngenomics. By determining the substitution rate of the genomic sequences, it is plausible to derive dates on the phylogenetic tree and build a chronology of events in the evolution of human species. MitGEN is specially designed as a mitochondrial genome browser for analyzing, comparing and visualizing single nucleotide polymorphism for human mitochondrial genomes between human races for comparative genomics. It is a standalone application and is available free for non-commercial work.\\r\\n\\r\\nThe human mitochondrial genome is a closed circular double-strand DNA molecule of 16,569 bp in length. As sequences of the public mitochondrial genome increase, researchers infer diverse origins of human species to build evolutionary trees through data mining of large scale SNP data. Molecular anthropologists have been comparing the DNA of living humans of diverse origins to build evolutionary trees. This work is useful for researchers not only to reveal the secret of human revolutions, but also to identify associations between SNPs. However, the main difficulty for an efficient exploitation lies in the fact that there are not many efficient visualization tools developed so far. Consequently, there is a strong need for a user-friendly system allowing the user to handle and combine large and diverse SNP data sets from the different mitochondrial databases.\\r\\n\\r\\nGeneral Features of MitGEN: MitGEN is a mitochondrial genome browser for comparing genomic variations of individual sequences on a pair-wise format. Version 1.1, which was released in September 2004, is the latest version of MitGEN for Microsoft Windows platforms. MitGEN provides zooming capabilities, extensive sequence\\xad alignment capabilities, and the option of visualizing multiple mitochondrial genomes in the main window.\\r\\n\\r\\nThe large middle frame in figure 1 is the main Genome Viewer. The ‘zoom’ icon on the narrow bottom frame provides zoomable and scrollable feature display down to sequence level optimized for display of large regions of genome for moving within and between scaffolds (or fragments) as in the bottom left corner of\\r\\n\\r\\nfigure 1. Users also want to check the evidence for individual DNA sequences by inspecting the chromatograms from which the base calls were deduced. On clicking the specific genome area, a pop-up window will be shown to display the chromatography along with base-calling quality values as in the top right corner of figure 1. To click on ‘View Sequence’ will display up to 1000 bps around the specified spot as in the top right corner, where the sequences can be inspected by scrolling the bar in the bottom frame. To click on ‘SNP’ invokes the genome comparison and SNP search mode between individuals or among races as in figure 2.\\r\\n\\r\\nComparing Individual Genomes: It is frequent to compare the standard Cambridge data with other mitochondrial DNA MitGEN makes it possible to compare two mitochondrial genomes for comparative studies. As was previously mentioned, clicking on ‘SNP’ will invoke the SNP search\\r\\n\\r\\n\\r\\nmode between individuals or among races. For example,\\r\\n\\r\\nthe main window in figure 2 displays two circular genomes       rather than one. The outer circle represents the standard\\r\\n\\r\\nCambridge data, and the inner circle represents the data in comparison. The Genome Browser in figure 2 shows that MitGEN can display not only the completed g enomes but also the fragments of partially sequenced genomes. However, the individual genomes should be pre-aligned according to the Cambridge Reference Sequence before being displayed. MitGEN provides the option of displaying multiple sequence alignments among the same races or similar groups. The different SNP sites will be displayed in different colors as shown in the top corner of figure 2. Clicking on certain features of MitGEN also searches our database for listings of genes or SNP sites. Users can connect directly to the mitochondrial web sites or databases for the latest human mitochondrial annotation.\\r\\n\\r\\n'"
      ]
     },
     "execution_count": 35,
     "metadata": {},
     "output_type": "execute_result"
    }
   ],
   "source": [
    "comp_gni2_Raw"
   ]
  },
  {
   "cell_type": "code",
   "execution_count": 36,
   "metadata": {
    "scrolled": true
   },
   "outputs": [
    {
     "data": {
      "text/plain": [
       "4"
      ]
     },
     "execution_count": 36,
     "metadata": {},
     "output_type": "execute_result"
    }
   ],
   "source": [
    "gni2_test1 = re.findall(r'[A-Z|a-z|0-9]+[\\s]{2,}\\n[a-z|R-]+[0-9]?', comp_gni2_Raw)\n",
    "len(gni2_test1)"
   ]
  },
  {
   "cell_type": "code",
   "execution_count": 37,
   "metadata": {},
   "outputs": [
    {
     "data": {
      "text/plain": [
       "['Genome\\r\\n\\r\\nRecently',\n",
       " 'population\\r\\n\\r\\ngenomics',\n",
       " 'of\\r\\n\\r\\nfigure',\n",
       " 'search\\r\\n\\r\\n\\r\\nmode']"
      ]
     },
     "execution_count": 37,
     "metadata": {},
     "output_type": "execute_result"
    }
   ],
   "source": [
    "gni2_test1"
   ]
  },
  {
   "cell_type": "code",
   "execution_count": 38,
   "metadata": {},
   "outputs": [
    {
     "data": {
      "text/plain": [
       "['Genome Recently', 'population genomics', 'of figure', 'search mode']"
      ]
     },
     "execution_count": 38,
     "metadata": {},
     "output_type": "execute_result"
    }
   ],
   "source": [
    "[re.sub(r'[\\r\\n]+', ' ', p) for p in gni2_test1]"
   ]
  },
  {
   "cell_type": "code",
   "execution_count": 39,
   "metadata": {},
   "outputs": [
    {
     "data": {
      "text/plain": [
       "1"
      ]
     },
     "execution_count": 39,
     "metadata": {},
     "output_type": "execute_result"
    }
   ],
   "source": [
    "gni2_test2 = re.findall(r'[A-Za-z]+\\xad[\\s]+[a-z]+',comp_gni2_Raw)\n",
    "len(gni2_test2)"
   ]
  },
  {
   "cell_type": "code",
   "execution_count": 40,
   "metadata": {},
   "outputs": [
    {
     "data": {
      "text/plain": [
       "['sequence\\xad alignment']"
      ]
     },
     "execution_count": 40,
     "metadata": {},
     "output_type": "execute_result"
    }
   ],
   "source": [
    "gni2_test2"
   ]
  },
  {
   "cell_type": "code",
   "execution_count": 41,
   "metadata": {},
   "outputs": [
    {
     "data": {
      "text/plain": [
       "['sequencealignment']"
      ]
     },
     "execution_count": 41,
     "metadata": {},
     "output_type": "execute_result"
    }
   ],
   "source": [
    "[re.sub(r'[\\xad\\s]', '', p) for p in gni2_test2]"
   ]
  },
  {
   "cell_type": "code",
   "execution_count": 42,
   "metadata": {},
   "outputs": [
    {
     "data": {
      "text/plain": [
       "0"
      ]
     },
     "execution_count": 42,
     "metadata": {},
     "output_type": "execute_result"
    }
   ],
   "source": [
    "gni2_test3 = re.findall(r'[A-Za-z]+-[a-z]+-\\s[a-z]+', comp_gni2_Raw)\n",
    "len(gni2_test3)"
   ]
  },
  {
   "cell_type": "code",
   "execution_count": 43,
   "metadata": {},
   "outputs": [
    {
     "data": {
      "text/plain": [
       "4"
      ]
     },
     "execution_count": 43,
     "metadata": {},
     "output_type": "execute_result"
    }
   ],
   "source": [
    "gni2_test4 = re.findall(r'[a-z]+[\\s]{2,}[a-z]+', comp_gni2_Raw)\n",
    "len(gni2_test4)"
   ]
  },
  {
   "cell_type": "code",
   "execution_count": 44,
   "metadata": {},
   "outputs": [
    {
     "data": {
      "text/plain": [
       "['population\\r\\n\\r\\ngenomics',\n",
       " 'of\\r\\n\\r\\nfigure',\n",
       " 'search\\r\\n\\r\\n\\r\\nmode',\n",
       " 'genomes       rather']"
      ]
     },
     "execution_count": 44,
     "metadata": {},
     "output_type": "execute_result"
    }
   ],
   "source": [
    "gni2_test4"
   ]
  },
  {
   "cell_type": "code",
   "execution_count": 45,
   "metadata": {},
   "outputs": [
    {
     "data": {
      "text/plain": [
       "['population genomics', 'of figure', 'search mode', 'genomes rather']"
      ]
     },
     "execution_count": 45,
     "metadata": {},
     "output_type": "execute_result"
    }
   ],
   "source": [
    "[re.sub('[\\s]{2,}', ' ', p) for p in gni2_test4]"
   ]
  }
 ],
 "metadata": {
  "kernelspec": {
   "display_name": "Python 3",
   "language": "python",
   "name": "python3"
  },
  "language_info": {
   "codemirror_mode": {
    "name": "ipython",
    "version": 3
   },
   "file_extension": ".py",
   "mimetype": "text/x-python",
   "name": "python",
   "nbconvert_exporter": "python",
   "pygments_lexer": "ipython3",
   "version": "3.7.6"
  }
 },
 "nbformat": 4,
 "nbformat_minor": 4
}
